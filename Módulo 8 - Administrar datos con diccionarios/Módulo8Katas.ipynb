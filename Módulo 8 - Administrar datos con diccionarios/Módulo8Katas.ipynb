{
 "cells": [
  {
   "cell_type": "markdown",
   "metadata": {},
   "source": [
    "# Módulo 8 - Ejercicio 1\n",
    "Creación de diccionarios de Python"
   ]
  },
  {
   "cell_type": "code",
   "execution_count": 9,
   "metadata": {},
   "outputs": [
    {
     "name": "stdout",
     "output_type": "stream",
     "text": [
      "Planet: Mars\n",
      "Mars has 2 moons\n",
      "\n",
      "Mars has a polar circumference of: 6752 Km\n"
     ]
    }
   ],
   "source": [
    "\n",
    "# EXERCISE - Create and modify a python dictionary\n",
    "# Create a dictionary called planet\n",
    "planet = {\n",
    "\t'name': 'Mars',\n",
    "\t'moons': 2\n",
    "}\n",
    "# Shows the name of the planet and the number of moons it has.\n",
    "print('Planet: ' + planet['name'])\n",
    "print(planet['name'] + ' has ' + str(planet['moons']) + ' moons\\n')\n",
    "# Add the circumference key with the previously provided data\n",
    "planet['circumference (km)'] = {\n",
    "\t'polar': 6752,\n",
    "\t'equatorial': 6792\n",
    "}\n",
    "# Print the name of the planet with its polar circumference.\n",
    "print(f\"{planet['name']} has a polar circumference of: {planet['circumference (km)']['polar']} Km\")\n"
   ]
  },
  {
   "cell_type": "markdown",
   "metadata": {},
   "source": [
    "# Módulo 8 - Ejercicio 2\n",
    "Programación dinámica con diccionarios"
   ]
  },
  {
   "cell_type": "code",
   "execution_count": 12,
   "metadata": {},
   "outputs": [
    {
     "name": "stdout",
     "output_type": "stream",
     "text": [
      "17.833333333333332\n"
     ]
    }
   ],
   "source": [
    "\n",
    "# EXERCISE - Calculation of values\n",
    "# Planets and moons\n",
    "planet_moons = {\n",
    "    'mercury': 0,\n",
    "    'venus': 0,\n",
    "    'earth': 1,\n",
    "    'mars': 2,\n",
    "    'jupiter': 79,\n",
    "    'saturn': 82,\n",
    "    'uranus': 27,\n",
    "    'neptune': 14,\n",
    "    'pluto': 5,\n",
    "    'haumea': 2,\n",
    "    'makemake': 1,\n",
    "    'eris': 1\n",
    "}\n",
    "# Add the code to determine the number of moons\n",
    "moons = planet_moons.values()\n",
    "# Add the code to count the number of moons\n",
    "total_moons = 0\n",
    "for moon in moons:\n",
    "\ttotal_moons += moon\n",
    "# Calculate the average\n",
    "average = total_moons / len(planet_moons.keys())\n",
    "# Show the average\n",
    "print(average)\n"
   ]
  }
 ],
 "metadata": {
  "interpreter": {
   "hash": "2be5faf79681da6f2a61fdfdd5405d65d042280f7fba6178067603e3a2925119"
  },
  "kernelspec": {
   "display_name": "Python 3.10.1 64-bit",
   "language": "python",
   "name": "python3"
  },
  "language_info": {
   "codemirror_mode": {
    "name": "ipython",
    "version": 3
   },
   "file_extension": ".py",
   "mimetype": "text/x-python",
   "name": "python",
   "nbconvert_exporter": "python",
   "pygments_lexer": "ipython3",
   "version": "3.10.1"
  },
  "orig_nbformat": 4
 },
 "nbformat": 4,
 "nbformat_minor": 2
}
