{
 "cells": [
  {
   "cell_type": "markdown",
   "metadata": {},
   "source": [
    "# Módulo 7 - Ejercicio 1\n",
    "Creación de un bucle `while`"
   ]
  },
  {
   "cell_type": "code",
   "execution_count": 7,
   "metadata": {},
   "outputs": [],
   "source": [
    "\n",
    "# EXERCISE - Using while loops in python\n",
    "# Declare two variables\n",
    "new_planet = ''\n",
    "planets = []\n",
    "# While loop\n",
    "while new_planet.lower() != 'done':\n",
    "\tif new_planet:\n",
    "\t\tplanets.append(new_planet)\n",
    "\tnew_planet = input('Enter the name of a planet: ')\n"
   ]
  },
  {
   "cell_type": "markdown",
   "metadata": {},
   "source": [
    "# Módulo 7 - Ejercicio 2\n",
    "Creación de un ciclo `for`"
   ]
  },
  {
   "cell_type": "code",
   "execution_count": 8,
   "metadata": {},
   "outputs": [
    {
     "name": "stdout",
     "output_type": "stream",
     "text": [
      "Mercury\n",
      "Venus\n",
      "Earth\n",
      "Mars\n",
      "Saturn\n"
     ]
    }
   ],
   "source": [
    "\n",
    "# EXERCISE - Loop for a list\n",
    "# Write a for loop to iterate a list of planets\n",
    "for planet in planets:\n",
    "\tprint(planet)\n"
   ]
  }
 ],
 "metadata": {
  "interpreter": {
   "hash": "2be5faf79681da6f2a61fdfdd5405d65d042280f7fba6178067603e3a2925119"
  },
  "kernelspec": {
   "display_name": "Python 3.10.1 64-bit",
   "language": "python",
   "name": "python3"
  },
  "language_info": {
   "codemirror_mode": {
    "name": "ipython",
    "version": 3
   },
   "file_extension": ".py",
   "mimetype": "text/x-python",
   "name": "python",
   "nbconvert_exporter": "python",
   "pygments_lexer": "ipython3",
   "version": "3.10.1"
  },
  "orig_nbformat": 4
 },
 "nbformat": 4,
 "nbformat_minor": 2
}
