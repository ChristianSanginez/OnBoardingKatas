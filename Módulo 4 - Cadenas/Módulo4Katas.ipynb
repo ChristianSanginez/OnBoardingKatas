{
 "cells": [
  {
   "cell_type": "markdown",
   "metadata": {},
   "source": [
    "# Módulo 4 - Ejercicio 1\n",
    "Transformando cadenas"
   ]
  },
  {
   "cell_type": "code",
   "execution_count": 29,
   "metadata": {},
   "outputs": [
    {
     "name": "stdout",
     "output_type": "stream",
     "text": [
      " \n",
      "On average, the Moon moves 4cm away from the Earth every year.\n",
      " The highest daylight temperature of the Moon is 127 C.\n",
      " \n",
      "On average, the Moon moves 4cm away from the Earth every year.\n",
      " The highest daylight temperature of the Moon is 127 Celsius.\n"
     ]
    }
   ],
   "source": [
    "\n",
    "text = \"\"\"Interesting facts about the Moon. The Moon is Earth's only satellite. There are several interesting facts about the Moon and how it affects life here on Earth. \n",
    "On average, the Moon moves 4cm away from the Earth every year. This yearly drift is not significant enough to cause immediate effects on Earth. The highest daylight temperature of the Moon is 127 C.\"\"\"\n",
    "# Keywords\n",
    "keywords = ['average', 'temperature', 'distance']\n",
    "# Divide the text into sentences\n",
    "string = text.split('.')\n",
    "# Show sentences with any keyword\n",
    "for moon in string:\n",
    "\tif keywords[0] in moon or keywords[1] in moon or keywords[2] in moon:\n",
    "\t\tprint(moon + '.')\n",
    "# Show sentences with any keyword and change the temperature\n",
    "for moon in string:\n",
    "\tif keywords[0] in moon or keywords[1] in moon or keywords[2] in moon:\n",
    "\t\tprint(moon.replace('C', 'Celsius') + '.')\n"
   ]
  },
  {
   "cell_type": "markdown",
   "metadata": {},
   "source": [
    "# Módulo 4 - Ejercicio 2\n",
    "Formateando cadenas"
   ]
  },
  {
   "cell_type": "code",
   "execution_count": 37,
   "metadata": {},
   "outputs": [
    {
     "name": "stdout",
     "output_type": "stream",
     "text": [
      "The Gravity In The Earth And Moon\n",
      "------------------------------------------\n",
      "Planet Name: Earth\n",
      "Gravity on Earth: 1.6199999999999999 m/s2\n",
      "\n",
      "\n",
      "The Gravity In The Earth And Moon\n",
      "------------------------------------------\n",
      "Planet Name: Earth\n",
      "Gravity on Earth: 1.6199999999999999 m/s2\n",
      "\n",
      "\n",
      "The gravity in the Marte  and Ganímedes\n",
      "-------------------------------------------\n",
      "Planet Name: Marte \n",
      "Gravity on Marte : 1.4300000000000002 m/s2\n"
     ]
    }
   ],
   "source": [
    "\n",
    "# Data\n",
    "name = \"Moon\"\n",
    "gravity = 0.00162\n",
    "planet = \"Earth\"\n",
    "# Title creation\n",
    "title = f'The gravity in the {planet} and {name}'\n",
    "# Template creation\n",
    "template = f\"\"\"{title.title()}\n",
    "------------------------------------------\n",
    "Planet Name: {planet}\n",
    "Gravity on {planet}: {gravity * 1000} m/s2\"\"\"\n",
    "# Show template\n",
    "print(template + '\\n\\n')\n",
    "# New Data\n",
    "name = 'Ganímedes'\n",
    "gravity  = 0.00143\n",
    "planet = 'Marte '\n",
    "print(template + '\\n\\n')\n",
    "# Create a new template\n",
    "newTemplate = f\"\"\"The gravity in the {planet} and {name}\n",
    "-------------------------------------------\n",
    "Planet Name: {planet}\n",
    "Gravity on {planet}: {gravity * 1000} m/s2\"\"\"\n",
    "print(newTemplate.format(name = name, gravity = gravity, planet = planet))\n"
   ]
  }
 ],
 "metadata": {
  "interpreter": {
   "hash": "2be5faf79681da6f2a61fdfdd5405d65d042280f7fba6178067603e3a2925119"
  },
  "kernelspec": {
   "display_name": "Python 3.10.1 64-bit",
   "language": "python",
   "name": "python3"
  },
  "language_info": {
   "codemirror_mode": {
    "name": "ipython",
    "version": 3
   },
   "file_extension": ".py",
   "mimetype": "text/x-python",
   "name": "python",
   "nbconvert_exporter": "python",
   "pygments_lexer": "ipython3",
   "version": "3.10.1"
  },
  "orig_nbformat": 4
 },
 "nbformat": 4,
 "nbformat_minor": 2
}
