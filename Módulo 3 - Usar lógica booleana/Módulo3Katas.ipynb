{
 "cells": [
  {
   "cell_type": "markdown",
   "metadata": {},
   "source": [
    "# Módulo 3 - Ejercicio 1\n",
    "Escribir declaraciones if, else y elif"
   ]
  },
  {
   "cell_type": "code",
   "execution_count": 2,
   "metadata": {},
   "outputs": [
    {
     "name": "stdout",
     "output_type": "stream",
     "text": [
      "Danger! An asteroid approaches the earth at a speed of: 49 km/s!\n"
     ]
    }
   ],
   "source": [
    "\n",
    "# Add the necessary code to create a variable that saves the speed of the asteroid.\n",
    "# Write a test expression to calculate if it needs a warning.\n",
    "# Add the statements that will be executed if the test expression is true or false.\n",
    "\n",
    "speed = 49\n",
    "if speed > 25:\n",
    "\tprint('Danger! An asteroid approaches the earth at a speed of: ' + str(speed) + ' km/s!')\n",
    "else:\n",
    "\tprint('No alerts!')\n"
   ]
  },
  {
   "cell_type": "code",
   "execution_count": 3,
   "metadata": {},
   "outputs": [
    {
     "name": "stdout",
     "output_type": "stream",
     "text": [
      "No alerts!\n"
     ]
    }
   ],
   "source": [
    "\n",
    "# Add the code to create a variable for an asteroid traveling at 19 km/s\n",
    "# Write several test expressions to determine if you can see the beam of light from the ground\n",
    "# Add the statements that will be executed if the test expressions are True or False\n",
    "\n",
    "speed = 19\n",
    "if speed > 20:\n",
    "\tprint('Attention! A ray of light can be observed from the sky!')\n",
    "elif speed == 20:\n",
    "\tprint('Attention! A ray of light can be observed from the sky!')\n",
    "else:\n",
    "\tprint('No alerts!')\n"
   ]
  },
  {
   "cell_type": "markdown",
   "metadata": {},
   "source": [
    "# Modulo 3 - Ejercicio 2\n",
    "Uso de operadores `and` y `or`"
   ]
  },
  {
   "cell_type": "code",
   "execution_count": 4,
   "metadata": {},
   "outputs": [
    {
     "name": "stdout",
     "output_type": "stream",
     "text": [
      "Danger! An asteroid of 40 meters in diameter is heading towards Earth at a speed of 40 km/s!\n"
     ]
    }
   ],
   "source": [
    "\n",
    "# Add the code to create new variables for the speed and size of the asteroid\n",
    "# To test the code, try various speeds and sizes\n",
    "# Write various test expressions or combinations of test expressions to determine which message should be sent to Earth.\n",
    "\n",
    "speed = 40\n",
    "size = 40\n",
    "\n",
    "# size > 25 and size < 1000 // Causes a lot of damage\n",
    "# speed > 25 // Make a warning\n",
    "# speed >= 20 // You can see a light\n",
    "\n",
    "if speed > 25 and size > 25:\n",
    "\tprint('Danger! An asteroid of ' + str(size) + ' meters in diameter is heading towards Earth at a speed of ' + str(speed) + ' km/s!')\n",
    "elif speed >= 20:\n",
    "\tprint('Attention! A ray of light can be observed from the sky!')\n",
    "else:\n",
    "\tprint('No alerts!')\n"
   ]
  }
 ],
 "metadata": {
  "interpreter": {
   "hash": "2be5faf79681da6f2a61fdfdd5405d65d042280f7fba6178067603e3a2925119"
  },
  "kernelspec": {
   "display_name": "Python 3.10.1 64-bit",
   "language": "python",
   "name": "python3"
  },
  "language_info": {
   "codemirror_mode": {
    "name": "ipython",
    "version": 3
   },
   "file_extension": ".py",
   "mimetype": "text/x-python",
   "name": "python",
   "nbconvert_exporter": "python",
   "pygments_lexer": "ipython3",
   "version": "3.10.1"
  },
  "orig_nbformat": 4
 },
 "nbformat": 4,
 "nbformat_minor": 2
}
