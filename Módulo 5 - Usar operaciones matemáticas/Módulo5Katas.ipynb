{
 "cells": [
  {
   "cell_type": "markdown",
   "metadata": {},
   "source": [
    "# Módulo 5 - Ejercicio 1\n",
    "Utilizar operadores aritméticos"
   ]
  },
  {
   "cell_type": "code",
   "execution_count": 10,
   "metadata": {},
   "outputs": [
    {
     "name": "stdout",
     "output_type": "stream",
     "text": [
      "628949330 kilometres\n",
      "390577533.93 miles\n"
     ]
    }
   ],
   "source": [
    "\n",
    "# EXERCISE - Arithmetic operators in Python\n",
    "# Create two variables to save two distances!\n",
    "planet1 = 149597870\n",
    "planet2 = 778547200\n",
    "# Calculate the distance between planets\n",
    "distance = planet2 - planet1\n",
    "print(distance, 'kilometres')\n",
    "print(distance * 0.621, 'miles')\n"
   ]
  },
  {
   "cell_type": "markdown",
   "metadata": {},
   "source": [
    "# Módulo 5 - Ejercicio 2\n",
    "Convertir cadenas en números y usar valores absolutos"
   ]
  },
  {
   "cell_type": "code",
   "execution_count": 9,
   "metadata": {},
   "outputs": [
    {
     "name": "stdout",
     "output_type": "stream",
     "text": [
      "628949330 kilometres\n",
      "390577533.93 miles\n"
     ]
    }
   ],
   "source": [
    "\n",
    "# EXERCISE - Create an application to work with numbers and user input\n",
    "# Save the distance between the sun and one planet twice\n",
    "planet1 = input('Enter the distance from the sun to the first planet: ')\n",
    "planet2 = input('Enter the distance from the sun to the second planet: ')\n",
    "# Convert the strings to numbers\n",
    "planet1 = int(planet1)\n",
    "planet2 = int(planet2)\n",
    "# Calculate the distance between planets\n",
    "distance = planet2 - planet1\n",
    "print(distance, 'kilometres')\n",
    "print(distance * 0.621, 'miles')\n"
   ]
  }
 ],
 "metadata": {
  "interpreter": {
   "hash": "2be5faf79681da6f2a61fdfdd5405d65d042280f7fba6178067603e3a2925119"
  },
  "kernelspec": {
   "display_name": "Python 3.10.1 64-bit",
   "language": "python",
   "name": "python3"
  },
  "language_info": {
   "codemirror_mode": {
    "name": "ipython",
    "version": 3
   },
   "file_extension": ".py",
   "mimetype": "text/x-python",
   "name": "python",
   "nbconvert_exporter": "python",
   "pygments_lexer": "ipython3",
   "version": "3.10.1"
  },
  "orig_nbformat": 4
 },
 "nbformat": 4,
 "nbformat_minor": 2
}
