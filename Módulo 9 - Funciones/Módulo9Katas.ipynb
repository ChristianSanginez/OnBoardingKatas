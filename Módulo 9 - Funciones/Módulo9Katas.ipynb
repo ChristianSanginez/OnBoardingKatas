{
 "cells": [
  {
   "cell_type": "markdown",
   "metadata": {},
   "source": [
    "# Módulo 9 - Ejercicio 1\n",
    "Uso de funciones en Python"
   ]
  },
  {
   "cell_type": "code",
   "execution_count": 5,
   "metadata": {},
   "outputs": [
    {
     "name": "stdout",
     "output_type": "stream",
     "text": [
      "Report\n",
      "Total Average:  58.333333333333336\n",
      "First Tank:  60\n",
      "Second Tank:  70\n",
      "Third Tank:  45\n"
     ]
    }
   ],
   "source": [
    "\n",
    "# EXERCISE - Work with arguments in functions\n",
    "# Function to read 3 fuel tanks and show the average\n",
    "def report(first_tank, second_tank, third_tank):\n",
    "\tprint(\"REPORT\")\n",
    "\taverage(first_tank, second_tank, third_tank)\n",
    "\tprint('First Tank: ', first_tank)\n",
    "\tprint('Second Tank: ', second_tank)\n",
    "\tprint('Third Tank: ', third_tank)\n",
    "# Call to the function that generates the report\n",
    "report(60, 70, 45)\n",
    "# Average function\n",
    "def average(first_tank, second_tank, third_tank):\n",
    "\tprint('Total Average: ', (first_tank + second_tank + third_tank) / 3)\n"
   ]
  },
  {
   "cell_type": "markdown",
   "metadata": {},
   "source": [
    "# Módulo 9 - Ejercicio 2\n",
    "Trabajo con argumentos de palabra clave"
   ]
  },
  {
   "cell_type": "code",
   "execution_count": 20,
   "metadata": {},
   "outputs": [
    {
     "name": "stdout",
     "output_type": "stream",
     "text": [
      "\n",
      "\tMISSION REPORT\n",
      "\tDestination: Mars\n",
      "\tTotal Travel Time: 120 minutes\n",
      "\tTotal Fuel Left: 859000 gallons\n",
      "\t\n",
      "\n",
      "\tMISSION REPORT\n",
      "\tDestination: Moon\n",
      "\tTotal Travel Time: 118 minutes\n",
      "\tTotal Fuel Left: 859000 gallons\n",
      "\t\n",
      "\n",
      "\tMISSION REPORT\n",
      "\tDestination: Moon\n",
      "\tTotal Travel Time: 104 minutes\n",
      "\tTotal Fuel Left: 859000 gallons\n",
      "\tinternal tank = 359000 gallons left\n",
      "\texternal tank = 500000 gallons left\n"
     ]
    }
   ],
   "source": [
    "\n",
    "# EXERCISE - Work with keyword arguments in functions\n",
    "# Function with an accurate mission report. Consider pre-launch time, flight time, destination, external tank and internal tank\n",
    "def mission_report(prelaunch_time, flight_time, destination, external_tank, internal_tank):\n",
    "\treport = f\"\"\"\n",
    "\tMISSION REPORT\n",
    "\tDestination: {destination}\n",
    "\tTotal Travel Time: {prelaunch_time + flight_time} minutes\n",
    "\tTotal Fuel Left: {external_tank + internal_tank} gallons\n",
    "\t\"\"\"\n",
    "\tprint(report)\n",
    "mission_report(20, 100, \"Mars\", 359000, 500000)\n",
    "# Write a new reporting function considering minutes and tanks\n",
    "def mission_report(destination, *minutes, **fuel_reservoirs):\n",
    "\treport = f\"\"\"\n",
    "\tMISSION REPORT\n",
    "\tDestination: {destination}\n",
    "\tTotal Travel Time: {sum(minutes)} minutes\n",
    "\tTotal Fuel Left: {sum(fuel_reservoirs.values())} gallons\n",
    "\t\"\"\"\n",
    "\tprint(report)\n",
    "mission_report(\"Moon\", 23, 44, 51, internal = 359000, external = 500000)\n",
    "# Write a new function\n",
    "def mission_report(destination, *minutes, **fuel_reservoirs):\n",
    "\treport = f\"\"\"\n",
    "\tMISSION REPORT\n",
    "\tDestination: {destination}\n",
    "\tTotal Travel Time: {sum(minutes)} minutes\n",
    "\tTotal Fuel Left: {sum(fuel_reservoirs.values())} gallons\"\"\"\n",
    "\tfor tank, gallons in fuel_reservoirs.items():\n",
    "\t\treport += f\"\"\"\n",
    "\t{tank} tank = {gallons} gallons left\"\"\"\n",
    "\tprint(report)\n",
    "mission_report(\"Moon\", 18, 21, 65, internal = 359000, external = 500000)\n"
   ]
  }
 ],
 "metadata": {
  "interpreter": {
   "hash": "2be5faf79681da6f2a61fdfdd5405d65d042280f7fba6178067603e3a2925119"
  },
  "kernelspec": {
   "display_name": "Python 3.10.1 64-bit",
   "language": "python",
   "name": "python3"
  },
  "language_info": {
   "codemirror_mode": {
    "name": "ipython",
    "version": 3
   },
   "file_extension": ".py",
   "mimetype": "text/x-python",
   "name": "python",
   "nbconvert_exporter": "python",
   "pygments_lexer": "ipython3",
   "version": "3.10.1"
  },
  "orig_nbformat": 4
 },
 "nbformat": 4,
 "nbformat_minor": 2
}
